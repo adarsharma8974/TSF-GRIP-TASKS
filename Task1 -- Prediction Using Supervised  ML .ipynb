{
 "cells": [
  {
   "cell_type": "markdown",
   "metadata": {},
   "source": [
    "## Task 1 -- Prediction using Supervised ML"
   ]
  },
  {
   "cell_type": "markdown",
   "metadata": {},
   "source": [
    "# Name -- Adarsh Sharma "
   ]
  },
  {
   "cell_type": "markdown",
   "metadata": {},
   "source": [
    "#### Simple Linear Regression :-\n",
    "In this regression task we will predict the percentage of marks that a student is expected to score based upon the number of hours they studied. This is a simple linear regression task as it involves just two variables[Hours and Scoring marks]"
   ]
  },
  {
   "cell_type": "code",
   "execution_count": 1,
   "metadata": {},
   "outputs": [],
   "source": [
    "# Importing the required Libraries for this Task\n",
    "import pandas as pd\n",
    "import numpy as np \n",
    "%matplotlib inline\n",
    "import matplotlib.pyplot as plt  \n",
    "from sklearn.model_selection import train_test_split\n",
    "from sklearn.linear_model import LinearRegression \n",
    "from sklearn.metrics import mean_absolute_error,accuracy_score,r2_score\n",
    "import warnings\n",
    "warnings.filterwarnings(\"ignore\")"
   ]
  },
  {
   "cell_type": "markdown",
   "metadata": {},
   "source": [
    "### Importing the Dataset"
   ]
  },
  {
   "cell_type": "code",
   "execution_count": 2,
   "metadata": {},
   "outputs": [
    {
     "data": {
      "text/html": [
       "<div>\n",
       "<style scoped>\n",
       "    .dataframe tbody tr th:only-of-type {\n",
       "        vertical-align: middle;\n",
       "    }\n",
       "\n",
       "    .dataframe tbody tr th {\n",
       "        vertical-align: top;\n",
       "    }\n",
       "\n",
       "    .dataframe thead th {\n",
       "        text-align: right;\n",
       "    }\n",
       "</style>\n",
       "<table border=\"1\" class=\"dataframe\">\n",
       "  <thead>\n",
       "    <tr style=\"text-align: right;\">\n",
       "      <th></th>\n",
       "      <th>Hours</th>\n",
       "      <th>Scores</th>\n",
       "    </tr>\n",
       "  </thead>\n",
       "  <tbody>\n",
       "    <tr>\n",
       "      <th>0</th>\n",
       "      <td>2.5</td>\n",
       "      <td>21</td>\n",
       "    </tr>\n",
       "    <tr>\n",
       "      <th>1</th>\n",
       "      <td>5.1</td>\n",
       "      <td>47</td>\n",
       "    </tr>\n",
       "    <tr>\n",
       "      <th>2</th>\n",
       "      <td>3.2</td>\n",
       "      <td>27</td>\n",
       "    </tr>\n",
       "    <tr>\n",
       "      <th>3</th>\n",
       "      <td>8.5</td>\n",
       "      <td>75</td>\n",
       "    </tr>\n",
       "    <tr>\n",
       "      <th>4</th>\n",
       "      <td>3.5</td>\n",
       "      <td>30</td>\n",
       "    </tr>\n",
       "  </tbody>\n",
       "</table>\n",
       "</div>"
      ],
      "text/plain": [
       "   Hours  Scores\n",
       "0    2.5      21\n",
       "1    5.1      47\n",
       "2    3.2      27\n",
       "3    8.5      75\n",
       "4    3.5      30"
      ]
     },
     "execution_count": 2,
     "metadata": {},
     "output_type": "execute_result"
    }
   ],
   "source": [
    "# Reading data from remote link\n",
    "url = \"http://bit.ly/w-data\"\n",
    "dataset = pd.read_csv(url)\n",
    "dataset.head()"
   ]
  },
  {
   "cell_type": "markdown",
   "metadata": {},
   "source": [
    "### Plot the Imported data "
   ]
  },
  {
   "cell_type": "code",
   "execution_count": 3,
   "metadata": {},
   "outputs": [
    {
     "data": {
      "image/png": "[encoded data removed]",
      "text/plain": [
       "<Figure size 432x288 with 1 Axes>"
      ]
     },
     "metadata": {
      "needs_background": "light"
     },
     "output_type": "display_data"
    },
    {
     "name": "stdout",
     "output_type": "stream",
     "text": [
      "Here we Observe that our scatter plot is Linearly Positive Regression \n"
     ]
    }
   ],
   "source": [
    "plt.scatter(dataset.Hours,dataset.Scores,label = \" Data Point\")\n",
    "plt.xlabel('Hours of Studying',color = \"green\")\n",
    "plt.ylabel('Score Obtained',color = \"blue\")\n",
    "plt.legend()\n",
    "plt.show()\n",
    "\n",
    "print(\"Here we Observe that our scatter plot is Linearly Positive Regression \")"
   ]
  },
  {
   "cell_type": "markdown",
   "metadata": {},
   "source": [
    "### Prepare the data for Model \n",
    "#   \n",
    "#\n",
    "    Here we have two variables from the dataset >>\"Hours\" will be used as feature and \"Scores\" will be used as labels. We will also split the data into train and test data..."
   ]
  },
  {
   "cell_type": "code",
   "execution_count": 4,
   "metadata": {},
   "outputs": [
    {
     "name": "stdout",
     "output_type": "stream",
     "text": [
      "size of \n",
      " X_train  = 20 \n",
      " X_test = 5 \n",
      " Y_train  = 20 \n",
      " Y_test = 5\n"
     ]
    }
   ],
   "source": [
    "X = np.array(dataset[['Hours']])\n",
    "Y = np.array(dataset[['Scores']])\n",
    "\n",
    "X_train,X_test,Y_train,Y_test=train_test_split(X,Y,test_size = 0.2)\n",
    "# Size of Train or test data set Of X and Y\n",
    "print(f\"size of \\n X_train  = {X_train.size} \\n X_test = {X_test.size} \\n Y_train  = {Y_train.size} \\n Y_test = {Y_test.size}\")"
   ]
  },
  {
   "cell_type": "markdown",
   "metadata": {},
   "source": [
    "### Let's Create  a Model \n",
    "#### Train the model Frist\n",
    "#\n",
    "###### We know the ewuation o fline is Y= M *X + c \n",
    "#\n",
    "where :X & Y are continuous variable \n",
    "      : M = Slope of The line / gradient\n",
    "      :c = Constant/ intercept on y_axis"
   ]
  },
  {
   "cell_type": "code",
   "execution_count": 5,
   "metadata": {},
   "outputs": [
    {
     "name": "stdout",
     "output_type": "stream",
     "text": [
      "Slope of line = 9.926498102314639\n",
      "\n",
      "\n",
      "Constant = 0.6417651146629737\n",
      "\n",
      "\n",
      "Model is trained properly\n"
     ]
    }
   ],
   "source": [
    "LR = LinearRegression()\n",
    "LR.fit(X_train,Y_train)\n",
    "prediction = LR.predict(X_test)\n",
    "M=LR.coef_\n",
    "print(f\"Slope of line = {M[0][0]}\")\n",
    "C = LR.intercept_\n",
    "print(\"\\n\")\n",
    "print(f\"Constant = {C[0]}\")\n",
    "print(\"\\n\")\n",
    "print(\"Model is trained properly\")"
   ]
  },
  {
   "cell_type": "code",
   "execution_count": 6,
   "metadata": {},
   "outputs": [
    {
     "data": {
      "image/png": "[encoded data removed]",
      "text/plain": [
       "<Figure size 432x288 with 1 Axes>"
      ]
     },
     "metadata": {
      "needs_background": "light"
     },
     "output_type": "display_data"
    }
   ],
   "source": [
    "# Plotting the regression line\n",
    "line = LR.coef_*X+LR.intercept_\n",
    "\n",
    "# Plotting for the test data\n",
    "plt.scatter(X, Y,label = 'Data Points',color = 'red')\n",
    "plt.plot(X, line,color = 'cyan',label = \"Slope\")\n",
    "plt.title('Hours Vs Score',Color = \"red\")\n",
    "plt.xlabel('Hours of Studying',color = \"green\")\n",
    "plt.ylabel('Score Obtained',color = \"blue\")\n",
    "plt.legend()\n",
    "plt.show()"
   ]
  },
  {
   "cell_type": "markdown",
   "metadata": {},
   "source": [
    "### Evaluating the model\n",
    "The last 2nd step is to evaluate the performance of algorithm. This step is particularly important to compare how well different algorithms perform on a particular dataset. For simplicity here, we have chosen the mean square error,accuracy and Rsquared . There are many such metrics."
   ]
  },
  {
   "cell_type": "code",
   "execution_count": 7,
   "metadata": {},
   "outputs": [
    {
     "name": "stdout",
     "output_type": "stream",
     "text": [
      "R_Squared Score : 0.952154585386122\n",
      "\n",
      "\n",
      " Our Model Accuracy is Quiet Good that means we can use it for further predictions \n",
      "\n",
      "\n",
      "Mean_absolute_error : 5.433131982680278\n"
     ]
    }
   ],
   "source": [
    "R2 = r2_score(Y_test,prediction)\n",
    "print(f\"R_Squared Score : {R2}\")\n",
    "print(\"\\n\")\n",
    "print(\" Our Model Accuracy is Quiet Good that means we can use it for further predictions \")\n",
    "print(\"\\n\")\n",
    "mse = mean_absolute_error(Y_test,prediction)\n",
    "print(f\"Mean_absolute_error : {mse}\")"
   ]
  },
  {
   "cell_type": "markdown",
   "metadata": {},
   "source": [
    "### What will be the predicted Score if a student studies for 9.25 Hours/day ????\n",
    "\n",
    "### Let's test the Model For single Value"
   ]
  },
  {
   "cell_type": "code",
   "execution_count": 8,
   "metadata": {},
   "outputs": [
    {
     "name": "stdout",
     "output_type": "stream",
     "text": [
      "Enter the Hours of studing / day  = 9.25\n",
      "\n",
      "\n",
      "Hours: 9.25/day\n",
      "\n",
      "\n",
      "Predicted Marks : 92.46187256107339\n"
     ]
    }
   ],
   "source": [
    "hours = float(input(\"Enter the Hours of studing / day  = \"))\n",
    "pred = LR.predict([[hours]])\n",
    "print(\"\\n\")\n",
    "print(f\"Hours: {hours}/day\")\n",
    "print(\"\\n\")\n",
    "max = 100\n",
    "if (pred[0][0]) > 100:\n",
    "    print(f\"Predicted Marks : {max}\")\n",
    "else:\n",
    "    print(f\"Predicted Marks : {pred[0][0]}\")"
   ]
  },
  {
   "cell_type": "markdown",
   "metadata": {},
   "source": []
  },
  {
   "cell_type": "code",
   "execution_count": null,
   "metadata": {},
   "outputs": [],
   "source": []
  }
 ],
 "metadata": {
  "kernelspec": {
   "display_name": "Python 3",
   "language": "python",
   "name": "python3"
  },
  "language_info": {
   "codemirror_mode": {
    "name": "ipython",
    "version": 3
   },
   "file_extension": ".py",
   "mimetype": "text/x-python",
   "name": "python",
   "nbconvert_exporter": "python",
   "pygments_lexer": "ipython3",
   "version": "3.7.9"
  }
 },
 "nbformat": 4,
 "nbformat_minor": 4
}
